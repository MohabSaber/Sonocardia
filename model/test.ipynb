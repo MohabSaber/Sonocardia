{
 "cells": [
  {
   "cell_type": "code",
   "execution_count": 2,
   "metadata": {},
   "outputs": [
    {
     "name": "stderr",
     "output_type": "stream",
     "text": [
      "c:\\Users\\HP\\AppData\\Local\\Programs\\Python\\Python312\\Lib\\site-packages\\tqdm\\auto.py:21: TqdmWarning: IProgress not found. Please update jupyter and ipywidgets. See https://ipywidgets.readthedocs.io/en/stable/user_install.html\n",
      "  from .autonotebook import tqdm as notebook_tqdm\n"
     ]
    },
    {
     "name": "stdout",
     "output_type": "stream",
     "text": [
      "The predicted category for the audio file is: abnormal\n"
     ]
    }
   ],
   "source": [
    "import numpy as np\n",
    "import librosa\n",
    "from joblib import load\n",
    "\n",
    "# Preprocessing and feature extraction functions\n",
    "def preprocess_audio(file_path, target_sr=22050, noise_duration=0.5):\n",
    "    from noisereduce import reduce_noise\n",
    "    from scipy.signal import butter, filtfilt\n",
    "\n",
    "    def ml_noise_reduction(y, sr, noise_duration):\n",
    "        noise_sample = y[:int(noise_duration * sr)]\n",
    "        y_denoised = reduce_noise(y=y, sr=sr, y_noise=noise_sample)\n",
    "        return y_denoised\n",
    "\n",
    "    def bandpass_filter(y, sr, low_cut=20, high_cut=500):\n",
    "        nyquist = 0.5 * sr\n",
    "        low = low_cut / nyquist\n",
    "        high = high_cut / nyquist\n",
    "        b, a = butter(1, [low, high], btype='band')\n",
    "        return filtfilt(b, a, y)\n",
    "\n",
    "    # Load audio\n",
    "    y, sr = librosa.load(file_path, sr=target_sr)\n",
    "    # Noise reduction\n",
    "    y = ml_noise_reduction(y, sr, noise_duration)\n",
    "    # Bandpass filtering\n",
    "    y = bandpass_filter(y, sr)\n",
    "    # Trim silent edges\n",
    "    y, _ = librosa.effects.trim(y, top_db=20)\n",
    "    # Normalize\n",
    "    y = y / np.max(np.abs(y)) if np.max(np.abs(y)) != 0 else y\n",
    "    return y, sr\n",
    "\n",
    "def extract_features(signal, sr):\n",
    "    mfccs = librosa.feature.mfcc(y=signal, sr=sr, n_mfcc=20).mean(axis=1)\n",
    "    chroma = librosa.feature.chroma_stft(y=signal, sr=sr).mean(axis=1)\n",
    "    spectral_contrast = librosa.feature.spectral_contrast(y=signal, sr=sr).mean(axis=1)\n",
    "    zcr = librosa.feature.zero_crossing_rate(y=signal).mean(axis=1)\n",
    "    rolloff = librosa.feature.spectral_rolloff(y=signal, sr=sr).mean(axis=1)\n",
    "    centroid = librosa.feature.spectral_centroid(y=signal, sr=sr).mean(axis=1)\n",
    "    rms_energy = librosa.feature.rms(y=signal).mean(axis=1)\n",
    "    return {\n",
    "        'mfccs': mfccs,\n",
    "        'chroma': chroma,\n",
    "        'spectral_contrast': spectral_contrast,\n",
    "        'zcr': zcr,\n",
    "        'rolloff': rolloff,\n",
    "        'centroid': centroid,\n",
    "        'rms_energy': rms_energy\n",
    "    }\n",
    "\n",
    "# Testing a new audio file\n",
    "def predict_audio(file_path, model_path):\n",
    "    # Step 1: Load the trained model, best feature combination, and labels\n",
    "    model, best_features, labels = load(model_path)\n",
    "\n",
    "    # Step 2: Preprocess the new audio file\n",
    "    y, sr = preprocess_audio(file_path)\n",
    "    \n",
    "    # Step 3: Extract features from the new audio\n",
    "    features = extract_features(y, sr)\n",
    "    \n",
    "    # Step 4: Combine the best feature combination\n",
    "    X_new = np.concatenate([features[feat] for feat in best_features])\n",
    "    X_new = X_new.reshape(1, -1)  # Reshape to 2D array for model input\n",
    "\n",
    "    # Step 5: Predict the label\n",
    "    predicted_label = model.predict(X_new)\n",
    "\n",
    "    # Step 6: Map the numeric label back to the category\n",
    "    label_mapping = {index: label for index, label in enumerate(labels)}\n",
    "    predicted_category = label_mapping[predicted_label[0]]\n",
    "\n",
    "    return predicted_category\n",
    "\n",
    "# Define parameters\n",
    "model_path = r\"E:\\OneDrive\\Desktop\\GP\\Grad_Pro\\models\\Logistic Regression_best_model_with_features_and_labels.joblib\"  # Path to the saved model\n",
    "new_wav_path = r\"(ORIGINAL)DATASET-HEARTSOUNDS/abnormal/a0002.wav\"  # Path to the new audio file\n",
    "\n",
    "# Predict category\n",
    "predicted_category = predict_audio(new_wav_path, model_path)\n",
    "\n",
    "# Output the result\n",
    "print(f\"The predicted category for the audio file is: {predicted_category}\") "
   ]
  }
 ],
 "metadata": {
  "kernelspec": {
   "display_name": "Python 3",
   "language": "python",
   "name": "python3"
  },
  "language_info": {
   "codemirror_mode": {
    "name": "ipython",
    "version": 3
   },
   "file_extension": ".py",
   "mimetype": "text/x-python",
   "name": "python",
   "nbconvert_exporter": "python",
   "pygments_lexer": "ipython3",
   "version": "3.12.2"
  }
 },
 "nbformat": 4,
 "nbformat_minor": 2
}
